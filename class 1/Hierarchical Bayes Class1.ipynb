{
 "cells": [
  {
   "cell_type": "markdown",
   "metadata": {},
   "source": [
    "# Intro to Hierarchical Bayes"
   ]
  },
  {
   "cell_type": "markdown",
   "metadata": {},
   "source": [
    "##### *\"Conditional probabilities play an important role in investigating causal questions, as we often want to compare how the probability (or, equivalently, risk) of an outcome changes under different filtering, or exposure, conditions.\"* - Judea Pearl\n",
    "\n",
    "The analogy to keep with us when parsing the language of probabilities is a *frequency table.* Here, imagine we're pulling random objects out of a hat, each with a shape and color. The frequency table below lists the number of objects with a given shape and color residing in the hat. From this information, we'll explore notions of conditional probabilities, independence, probability mass and density. \n"
   ]
  },
  {
   "cell_type": "code",
   "execution_count": 11,
   "metadata": {},
   "outputs": [
    {
     "data": {
      "text/html": [
       "<div>\n",
       "<style scoped>\n",
       "    .dataframe tbody tr th:only-of-type {\n",
       "        vertical-align: middle;\n",
       "    }\n",
       "\n",
       "    .dataframe tbody tr th {\n",
       "        vertical-align: top;\n",
       "    }\n",
       "\n",
       "    .dataframe thead th {\n",
       "        text-align: right;\n",
       "    }\n",
       "</style>\n",
       "<table border=\"1\" class=\"dataframe\">\n",
       "  <thead>\n",
       "    <tr style=\"text-align: right;\">\n",
       "      <th></th>\n",
       "      <th>blue</th>\n",
       "      <th>red</th>\n",
       "      <th>marginal (shape)</th>\n",
       "    </tr>\n",
       "  </thead>\n",
       "  <tbody>\n",
       "    <tr>\n",
       "      <th>square</th>\n",
       "      <td>10</td>\n",
       "      <td>40</td>\n",
       "      <td>50</td>\n",
       "    </tr>\n",
       "    <tr>\n",
       "      <th>circle</th>\n",
       "      <td>5</td>\n",
       "      <td>15</td>\n",
       "      <td>30</td>\n",
       "    </tr>\n",
       "    <tr>\n",
       "      <th>triangle</th>\n",
       "      <td>5</td>\n",
       "      <td>25</td>\n",
       "      <td>20</td>\n",
       "    </tr>\n",
       "    <tr>\n",
       "      <th>marginal (color)</th>\n",
       "      <td>20</td>\n",
       "      <td>80</td>\n",
       "      <td>100</td>\n",
       "    </tr>\n",
       "  </tbody>\n",
       "</table>\n",
       "</div>"
      ],
      "text/plain": [
       "                  blue  red  marginal (shape)\n",
       "square              10   40                50\n",
       "circle               5   15                30\n",
       "triangle             5   25                20\n",
       "marginal (color)    20   80               100"
      ]
     },
     "execution_count": 11,
     "metadata": {},
     "output_type": "execute_result"
    }
   ],
   "source": [
    "import pandas as pd\n",
    "data=pd.read_csv('sample_data_class_1.csv',index_col=0)\n",
    "data #print out contigency table"
   ]
  },
  {
   "cell_type": "markdown",
   "metadata": {},
   "source": [
    "$p(blue|square)=?$"
   ]
  },
  {
   "cell_type": "code",
   "execution_count": 12,
   "metadata": {},
   "outputs": [
    {
     "data": {
      "text/plain": [
       "blue                10\n",
       "red                 40\n",
       "marginal (shape)    50\n",
       "Name: square, dtype: int64"
      ]
     },
     "execution_count": 12,
     "metadata": {},
     "output_type": "execute_result"
    }
   ],
   "source": [
    "data.loc['square'] #filter data to only view objects that are squares"
   ]
  },
  {
   "cell_type": "markdown",
   "metadata": {},
   "source": [
    "### By conditioning on square, we filter the data and only consider objects that are squares\n",
    "$p(blue|square)= 10/50 = 0.8$\n",
    "\n",
    "We computed this by taking the joint probability $p(blue \\cap square)$ and dividing it by the marginal probability $p(square)$. One can think of this as normalizing the frequency we get after filtering by the amount of items we've filtered. Colloquially, we could say, \"Given that we're only considering square objects, what is the probability I find a blue object.\" As such, all probabilities must equal 1, which in terms of frequencies, must equal the marginal frequency of square objects.\n",
    "\n",
    "Now, let's assess the marginal probability of $p(blue)$. The marginal is the total of all blue objects. The probability is this total divided by how many objects there are, or in this case, $p(blue)=20/100 = 0.8$\n",
    "\n",
    "Here $p(blue)=p(blue|square)$, which means that event *blue* is INDEPENDENT of  event *square*.\n",
    "\n",
    "Of note, I use the term *event* when a random variable is assigned to a given value. So, here, if shape and color are our two random variables, the two events are color=blue and shape=square. Alternatively, one could ask the question, are shapes independent of colors, which is at the level of random variables. Although we won't delve into it, you can see perhaps that the independence of a given color from a shape disappears when using different events. This is an indication of an interaction between these two random variables: that the effect of conditioning on shape depends on which level of color one is considering and vice versa. "
   ]
  },
  {
   "cell_type": "markdown",
   "metadata": {},
   "source": [
    "### Probability Mass"
   ]
  },
  {
   "cell_type": "markdown",
   "metadata": {},
   "source": [
    "Probability mass and density are two related but different concepts. Mass is defined as the amount of 'stuff' in a given object. Here, our objects are INTERVALS, which merely are arbitrary bins of data. Above, the data is categorical, and thus the categories define the data. But for interval-scale data, these bins could be anything. If the scale went from 0 to 100 (let's say we're talking about test scores), we could denote probability masses for each 2 point on the scale. That is, for example, $p([95,96])=.05$ means that 5% of the test-takers scored between 95% and 96% on their exam."
   ]
  },
  {
   "cell_type": "markdown",
   "metadata": {},
   "source": [
    "$\\delta x=intervalWidth$ \n",
    "\n",
    "To continue our exams example, this $\\delta x$ is every 2-point interval starting at 0. Summing up the probability mass is a matter of summing up the ratio of exam scores in a given interval over the total number of test takers *for each interval*. This amounts to the equation below:"
   ]
  },
  {
   "cell_type": "markdown",
   "metadata": {},
   "source": [
    "$Mass_{total}= \\sum_{i=interval} \\, p([x_i, \\, x_i+\\delta x]) $ = 1"
   ]
  },
  {
   "cell_type": "markdown",
   "metadata": {},
   "source": [
    "The summation of the probability mass of all intervals within a dataset must add up to 1.\n",
    "\n",
    "### Probability Densities\n",
    "\n",
    "The interesting case we're about to see is when data is continuous and each interval of data is as tiny as we can model it (a la what we do in calculus with continuous data). When you model data as such, we tend to discuss these probabilities as *densities* as opposed to *mass*. The former MASS parses the total probability into intervals. The latter, densities, is defined as the ratio of mass to the size of given tiny interval.The major takeaway is that probability densities can be *much greater than one* either in total or for a given interval.  "
   ]
  },
  {
   "cell_type": "markdown",
   "metadata": {},
   "source": [
    "$Density= \\frac{p([x_i,\\, x_i+\\delta x])}{\\delta x} $\n",
    "\n",
    "Here, densities are the probability mass of a very tiny interval divided by the size of that interval (i.e., how much mass per space). Importantly, these density values may be denoted by the exact same nomenclature as masses, i.e., by $p(x)$.\n",
    "\n",
    "Like summing up all probability masses, the *integration* of a probability density distribution is also 1. This is because an integral mutliplies a density by the tiny width of the interval (in mathematical notation, $dx$, but we'll keep our notation, $\\delta x$):\n",
    "\n",
    "$ Density_{total}=\\int \\delta x\\ p(x)\\ = \\ 1$\n",
    "\n",
    "This is the same as:\n",
    "\n",
    "$\\sum_{i=interval}\\ \\delta x\\ \\frac{p([x_i , \\, x_i+\\delta x])}{\\delta x}$\n",
    "\n",
    "This equivalence delivers an intuition about integration. That is, integrating is a weighted sum (here the weighting is the change in x over the tiniest of regions) of densities."
   ]
  },
  {
   "cell_type": "markdown",
   "metadata": {},
   "source": [
    "### Deriving bayes theorem with a symmetry: filtering the data in two ways to estimate joint probabilities"
   ]
  },
  {
   "cell_type": "code",
   "execution_count": 22,
   "metadata": {},
   "outputs": [
    {
     "data": {
      "text/html": [
       "<div>\n",
       "<style scoped>\n",
       "    .dataframe tbody tr th:only-of-type {\n",
       "        vertical-align: middle;\n",
       "    }\n",
       "\n",
       "    .dataframe tbody tr th {\n",
       "        vertical-align: top;\n",
       "    }\n",
       "\n",
       "    .dataframe thead th {\n",
       "        text-align: right;\n",
       "    }\n",
       "</style>\n",
       "<table border=\"1\" class=\"dataframe\">\n",
       "  <thead>\n",
       "    <tr style=\"text-align: right;\">\n",
       "      <th></th>\n",
       "      <th>blue</th>\n",
       "      <th>red</th>\n",
       "      <th>marginal (shape)</th>\n",
       "    </tr>\n",
       "  </thead>\n",
       "  <tbody>\n",
       "    <tr>\n",
       "      <th>square</th>\n",
       "      <td>10</td>\n",
       "      <td>40</td>\n",
       "      <td>50</td>\n",
       "    </tr>\n",
       "    <tr>\n",
       "      <th>circle</th>\n",
       "      <td>5</td>\n",
       "      <td>15</td>\n",
       "      <td>30</td>\n",
       "    </tr>\n",
       "    <tr>\n",
       "      <th>triangle</th>\n",
       "      <td>5</td>\n",
       "      <td>25</td>\n",
       "      <td>20</td>\n",
       "    </tr>\n",
       "    <tr>\n",
       "      <th>marginal (color)</th>\n",
       "      <td>20</td>\n",
       "      <td>80</td>\n",
       "      <td>100</td>\n",
       "    </tr>\n",
       "  </tbody>\n",
       "</table>\n",
       "</div>"
      ],
      "text/plain": [
       "                  blue  red  marginal (shape)\n",
       "square              10   40                50\n",
       "circle               5   15                30\n",
       "triangle             5   25                20\n",
       "marginal (color)    20   80               100"
      ]
     },
     "execution_count": 22,
     "metadata": {},
     "output_type": "execute_result"
    }
   ],
   "source": [
    "import pandas as pd\n",
    "data=pd.read_csv('sample_data_class_1.csv',index_col=0)\n",
    "data #print out contigency table"
   ]
  },
  {
   "cell_type": "markdown",
   "metadata": {},
   "source": [
    "Above we again see the contingency table of pulling objects from hats. Notice that there are two ways to arrive at the same joint probability of a square blue object:\n",
    "\n",
    "$p(square \\cap blue)=p(blue|square)\\,p(square)$    *Are we filtering data by column or row and which row?*\n",
    "\n",
    "$p(square \\cap blue)=p(square|blue)\\,p(blue)$\n",
    "\n",
    "As you can see, a joint probability can be computed by filtering either by the row or column. This is the point from which one can derive Bayes' theorem by equating the two filterings.\n",
    "\n",
    "\n",
    "$p(blue|square)\\,p(square)=p(square|blue)\\,p(blue)$\n",
    "\n",
    "By dividing each side by $p(square)$ we have Bayes' theorem which is a translation between conditional probabilities, or filters.\n",
    "\n",
    "$p(blue|square)=\\frac{p(square|blue)\\,p(blue)}{p(square)}$"
   ]
  },
  {
   "cell_type": "markdown",
   "metadata": {},
   "source": [
    "### Using Bayes' theorem to work with parameters and data\n",
    "\n",
    "Moving forward, we'll use what we've learned but replace a row of the frequency table with data and the columns by parameters. Eventually, we'll also nest parameters within a given model that provides constraints on which parameters are under consideration, and how they function in a data-generating process.\n",
    "\n",
    "Another way of putting this is that we'll be using Bayes techniques to infer latent values that explain the data we get. The ultimate goal of this project is to infer these latent quantities given the data, or evidence we have. The key terms in this enterprise are nomenclature attached to conditional and marginal probabilities found in the equation we've been working with:\n",
    "\n",
    "$\\underbrace{p(\\theta|Data)}_\\text{posterior}=[\\underbrace{p(Data|\\theta)}_\\text{likelihood} \\,\\,\\underbrace{p(\\theta)}_\\text{prior}]\\, / \\, \\underbrace{p(Data)}_\\text{evidence}$\n",
    "\n",
    "\n",
    "Note that the denominator that we call \"evidence\" is simply a marginal probability. In many cases it's called the marginal likelihood given that it is a weighted average of all possible likelihoods, where the weighting is accomlished by the prior probability of a given set of parameters:\n",
    "\n",
    "$\\sum_{\\theta}p(Data|\\theta)p(\\theta)$\n",
    "\n",
    "An alternative way to think about the marginal likelihood is to sum up all the joint probabilities in a given row (if columns are $\\theta\\text{'s}$ and rows are datasets).\n"
   ]
  },
  {
   "cell_type": "markdown",
   "metadata": {},
   "source": [
    "### Bayesian updating of hypotheses: models, parameters, and posteriors\n",
    "To see Bayes in action, consider an example flipping a coin (get Data) to see if the coin is biased (make inferences about latent quantities).\n",
    "\n",
    "We have a prior belief in certain possible values of the bias of the coin, with 1.0 meaning the coin is biased always to be heads, and 0.0 meaning the coin is always biased to show tails. An unbiased coin has a parameter of 0.5. We will see how to likelihood functions are dictated by a model of how to generate data, or what has been called a \"generative model.\" \n",
    "\n",
    "The first thing we'll do is define a prior distribution. The beauty of this interactive code is that we can see how the posterior is affected by the prior simply by changing the relevant code. For now, we'll start off with a prior that favors the belief that the coin is unbiased: the peak probability over $\\theta=0.5$ and the PMF decays towards 0 the more distant from 0.5 $\\theta$ gets."
   ]
  },
  {
   "cell_type": "code",
   "execution_count": 82,
   "metadata": {},
   "outputs": [
    {
     "name": "stderr",
     "output_type": "stream",
     "text": [
      "/home/paulsharp/.local/lib/python3.7/site-packages/ipykernel_launcher.py:14: DeprecationWarning: object of type <class 'float'> cannot be safely interpreted as an integer.\n",
      "  \n"
     ]
    },
    {
     "data": {
      "image/png": "[encoded data removed]",
      "text/plain": [
       "<Figure size 864x792 with 1 Axes>"
      ]
     },
     "metadata": {},
     "output_type": "display_data"
    }
   ],
   "source": [
    "\"\"\"\n",
    "Bayesian updating of beliefs about the bias of a coin. The prior and posterior\n",
    "distributions indicate probability masses at discrete candidate values of theta.\n",
    "\"\"\"\n",
    "import numpy as np\n",
    "import matplotlib.pyplot as plt\n",
    "plt.style.use('seaborn-darkgrid')\n",
    "\n",
    "# theta is the vector of candidate values for the parameter theta.\n",
    "# n_theta_vals is the number of candidate theta values.\n",
    "# To produce the examples in the book, set n_theta_vals to either 3 or 63.\n",
    "n_theta_vals = 11.\n",
    "# Now make the vector of theta values:\n",
    "theta = np.linspace(0, 1, n_theta_vals )\n",
    "\n",
    "# p_theta is the vector of prior probabilities on the theta values.\n",
    "p_theta = np.minimum(theta, 1-theta)  # Makes a triangular belief distribution.\n",
    "p_theta = p_theta / np.sum(p_theta)     # Makes sure that beliefs sum to 1.\n",
    "\n",
    "# Plot the results.\n",
    "plt.figure(figsize=(12, 11))\n",
    "plt.subplots_adjust(hspace=0.7)\n",
    "\n",
    "# Plot the prior:\n",
    "plt.subplot(3, 1, 1)\n",
    "plt.stem(theta, p_theta, markerfmt=' ')\n",
    "plt.xlim(0, 1.2)\n",
    "plt.xlabel('$\\\\theta$')\n",
    "plt.ylabel('$P(\\\\theta)$')\n",
    "plt.title('Prior')\n",
    "plt.show()\n",
    "# Plot the likelihood:\n"
   ]
  },
  {
   "cell_type": "markdown",
   "metadata": {},
   "source": [
    "You'll notice that this is a probability *mass* function, with probability values at discrete values that sum to one. \n",
    "\n",
    "### Data\n",
    "\n",
    "Below in the next bit of code is the Data we observe. Here, we observe 1 coin-toss, which came up heads."
   ]
  },
  {
   "cell_type": "code",
   "execution_count": 83,
   "metadata": {},
   "outputs": [],
   "source": [
    "n_heads = 1\n",
    "n_tails = 0"
   ]
  },
  {
   "cell_type": "markdown",
   "metadata": {},
   "source": [
    "### Likelihood function\n",
    "\n",
    "Likelihood functions, denoted in Bayes' by $p(Data|\\theta)$ can be thought of as a generative model. That is, a generative model is a function that can generate data, which is contingent upon a particular set of parameters calibrating the action of the model. Here, we'll use the Bernoulli distribution as a way to generate data. We use this because it's suited exactly for what we're studying: a single, binary response. One can think of Bernoulli as defining the likelihood that one of the two binary outcomes is favored due to a bias term, denoted here as $\\theta$."
   ]
  },
  {
   "cell_type": "code",
   "execution_count": 84,
   "metadata": {},
   "outputs": [
    {
     "data": {
      "image/png": "[encoded data removed]",
      "text/plain": [
       "<Figure size 432x288 with 1 Axes>"
      ]
     },
     "metadata": {},
     "output_type": "display_data"
    }
   ],
   "source": [
    "# Compute the likelihood of the data for each value of theta:\n",
    "p_data_given_theta = theta**n_heads * (1-theta)**n_tails\n",
    "\n",
    "#Plot the likelihood\n",
    "plt.subplot(3, 1, 2)\n",
    "plt.stem(theta, p_data_given_theta, markerfmt=' ')\n",
    "plt.xlim(0, 1.2)\n",
    "plt.xlabel('$\\\\theta$')\n",
    "plt.ylabel('$P(D|\\\\theta)$')\n",
    "plt.title('Likelihood')\n",
    "plt.text(0.6, np.max(p_data_given_theta)/2, 'D = %sH,%sT' % (n_heads, n_tails))\n",
    "plt.show()"
   ]
  },
  {
   "cell_type": "code",
   "execution_count": 81,
   "metadata": {},
   "outputs": [
    {
     "data": {
      "image/png": "[encoded data removed]",
      "text/plain": [
       "<Figure size 432x288 with 1 Axes>"
      ]
     },
     "metadata": {},
     "output_type": "display_data"
    }
   ],
   "source": [
    "# Compute the posterior:\n",
    "p_data = np.sum(p_data_given_theta * p_theta)\n",
    "p_theta_given_data = p_data_given_theta * p_theta / p_data   # This is Bayes' rule!\n",
    "\n",
    "# Plot the posterior:\n",
    "plt.subplot(3, 1, 3)\n",
    "plt.stem(theta, p_theta_given_data, markerfmt=' ')\n",
    "plt.xlim(0, 1)\n",
    "plt.xlabel('$\\\\theta$')\n",
    "plt.ylabel('$P(\\\\theta|D)$')\n",
    "plt.title('Posterior')\n",
    "plt.text(0.6, np.max(p_theta_given_data)/2, 'P(D) = %g' % p_data)\n",
    "plt.show()"
   ]
  },
  {
   "cell_type": "markdown",
   "metadata": {},
   "source": [
    "### How the prior affects the posterior\n",
    "\n",
    "(1) Try plugging in 1000 heads for the data. Then run the rest of the code. What do you notice, and why?\n",
    "\n",
    "(2) Change the prior to favor tails. What do you notice about the posterior with 10 heads, and why?"
   ]
  },
  {
   "cell_type": "code",
   "execution_count": null,
   "metadata": {},
   "outputs": [],
   "source": []
  }
 ],
 "metadata": {
  "kernelspec": {
   "display_name": "Python 3",
   "language": "python",
   "name": "python3"
  },
  "language_info": {
   "codemirror_mode": {
    "name": "ipython",
    "version": 3
   },
   "file_extension": ".py",
   "mimetype": "text/x-python",
   "name": "python",
   "nbconvert_exporter": "python",
   "pygments_lexer": "ipython3",
   "version": "3.7.3"
  }
 },
 "nbformat": 4,
 "nbformat_minor": 2
}
