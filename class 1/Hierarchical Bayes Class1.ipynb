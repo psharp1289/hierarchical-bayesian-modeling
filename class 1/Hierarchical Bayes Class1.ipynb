{
 "cells": [
  {
   "cell_type": "markdown",
   "metadata": {},
   "source": [
    "# Intro to Hierarchical Bayes"
   ]
  },
  {
   "cell_type": "markdown",
   "metadata": {},
   "source": [
    "##### *\"Conditional probabilities play an important role in investigating causal questions, as we often want to compare how the probability (or, equivalently, risk) of an outcome changes under different filtering, or exposure, conditions.\"* - Judea Pearl\n",
    "\n",
    "The analogy to keep with us when parsing the language of probabilities is a *frequency table.* Here, imagine we're pulling random objects out of a hat, each with a shape and color. The frequency table below lists the number of objects with a given shape and color residing in the hat. From this information, we'll explore notions of conditional probabilities, independence, probability mass and density. \n"
   ]
  },
  {
   "cell_type": "code",
   "execution_count": 2,
   "metadata": {},
   "outputs": [
    {
     "data": {
      "text/html": [
       "<div>\n",
       "<style scoped>\n",
       "    .dataframe tbody tr th:only-of-type {\n",
       "        vertical-align: middle;\n",
       "    }\n",
       "\n",
       "    .dataframe tbody tr th {\n",
       "        vertical-align: top;\n",
       "    }\n",
       "\n",
       "    .dataframe thead th {\n",
       "        text-align: right;\n",
       "    }\n",
       "</style>\n",
       "<table border=\"1\" class=\"dataframe\">\n",
       "  <thead>\n",
       "    <tr style=\"text-align: right;\">\n",
       "      <th></th>\n",
       "      <th>blue</th>\n",
       "      <th>red</th>\n",
       "      <th>marginal (shape)</th>\n",
       "    </tr>\n",
       "  </thead>\n",
       "  <tbody>\n",
       "    <tr>\n",
       "      <th>square</th>\n",
       "      <td>10</td>\n",
       "      <td>40</td>\n",
       "      <td>50</td>\n",
       "    </tr>\n",
       "    <tr>\n",
       "      <th>circle</th>\n",
       "      <td>5</td>\n",
       "      <td>15</td>\n",
       "      <td>30</td>\n",
       "    </tr>\n",
       "    <tr>\n",
       "      <th>triangle</th>\n",
       "      <td>5</td>\n",
       "      <td>25</td>\n",
       "      <td>20</td>\n",
       "    </tr>\n",
       "    <tr>\n",
       "      <th>marginal (color)</th>\n",
       "      <td>20</td>\n",
       "      <td>80</td>\n",
       "      <td>100</td>\n",
       "    </tr>\n",
       "  </tbody>\n",
       "</table>\n",
       "</div>"
      ],
      "text/plain": [
       "                  blue  red  marginal (shape)\n",
       "square              10   40                50\n",
       "circle               5   15                30\n",
       "triangle             5   25                20\n",
       "marginal (color)    20   80               100"
      ]
     },
     "execution_count": 2,
     "metadata": {},
     "output_type": "execute_result"
    }
   ],
   "source": [
    "import pandas as pd\n",
    "data=pd.read_csv('sample_data_class_1.csv',index_col=0)\n",
    "data #print out contigency table"
   ]
  },
  {
   "cell_type": "markdown",
   "metadata": {},
   "source": [
    "$p(blue|square)=?$"
   ]
  },
  {
   "cell_type": "code",
   "execution_count": 3,
   "metadata": {},
   "outputs": [
    {
     "data": {
      "text/plain": [
       "blue                10\n",
       "red                 40\n",
       "marginal (shape)    50\n",
       "Name: square, dtype: int64"
      ]
     },
     "execution_count": 3,
     "metadata": {},
     "output_type": "execute_result"
    }
   ],
   "source": [
    "data.loc['square'] #filter data to only view objects that are squares"
   ]
  },
  {
   "cell_type": "markdown",
   "metadata": {},
   "source": [
    "### By conditioning on square, we filter the data and only consider objects that are squares\n",
    "$p(blue|square)= 10/50 = 0.2$\n",
    "\n",
    "We computed this by taking the joint probability $p(blue \\cap square)$ and dividing it by the marginal probability $p(square)$. One can think of this as normalizing the frequency we get after filtering by the amount of items we've filtered. Colloquially, we could say, \"Given that we're only considering square objects, what is the probability I find a blue object.\" As such, all probabilities must equal 1, or in terms of frequencies, the sum of frequencies must equal the marginal frequency of square objects."
   ]
  },
  {
   "cell_type": "markdown",
   "metadata": {},
   "source": [
    "Now, let's assess the marginal probability of $p(blue)$. The marginal is the total of all blue objects. The probability is this total divided by how many objects there are, or in this case, $p(blue)= \\frac{20}{100} = 0.2$\n",
    "\n",
    "Here $p(blue)=p(blue|square)$, which means that event *blue* is independent of  event *square*.\n",
    "\n",
    "Of note, I use the term *event* when a random variable is assigned to a given value. So, here, if shape and color are our two random variables, the two events are color=blue and shape=square. Alternatively, one could ask the question, are shapes independent of colors, which is at the level of random variables. Although we won't delve into it, you can see perhaps that the independence of a given color from a shape disappears when using different events. This is an indication of an interaction between these two random variables: that the effect of conditioning on shape depends on which level of color one is considering and vice versa. "
   ]
  },
  {
   "cell_type": "markdown",
   "metadata": {},
   "source": [
    "### Probability Mass"
   ]
  },
  {
   "cell_type": "markdown",
   "metadata": {},
   "source": [
    "Probability mass and density are two related but different concepts. Mass is defined as the amount of 'stuff' in a given object. Here, our objects are *intervals*, which merely are arbitrary bins of data. Above, the data is categorical, and thus the categories define the data. But for interval-scale data, these bins could be any numerical range. If the scale went from 0 to 100 (let's say we're talking about test scores), we could denote probability masses for each 2 points on the scale. That is, for example, $p([95,96])=.05$ means that 5% of the test-takers scored between 95% and 96% on their exam.\n",
    "\n",
    "$\\delta x=intervalWidth$ \n",
    "\n",
    "To continue our exams example, this $\\delta x$ is every 2-point interval starting at 0. Summing up the probability mass is a matter of summing up the ratio of exam scores in a given interval over the total number of test takers *for each interval*. This amounts to the equation below:\n",
    "\n",
    "$Mass_{total}= \\sum_{i=interval} \\, p([x_i, \\, x_i+\\delta x]) $ = 1\n",
    "\n",
    "The summation of the probability mass of all intervals within a dataset must add up to 1."
   ]
  },
  {
   "cell_type": "markdown",
   "metadata": {},
   "source": [
    "### Probability Densities\n",
    "\n",
    "The interesting case we're about to see is when data is continuous and each interval of data is as tiny as we can model it (a la what we do in calculus with continuous data). When you model data as such, we tend to discuss these probabilities as *densities* as opposed to *mass*. Recall, mass parses the total probability into intervals. By contrast, densities are the ratio of mass to the size of incredibly tiny intervals (the limit).The major takeaway is that probability densities can be *much greater than one* either in total or for a given interval.  "
   ]
  },
  {
   "cell_type": "markdown",
   "metadata": {},
   "source": [
    "$Density= \\frac{p([x_i,\\, x_i+\\delta x])}{\\delta x} $\n",
    "\n",
    "Here, densities are the probability mass of a very tiny interval divided by the size of that interval (i.e., how much mass per space). Importantly, these density values may be denoted by the exact same nomenclature as masses, i.e., by $p(x)$.\n",
    "\n",
    "Like summing up all probability masses, the *integration* of a probability density distribution is also 1. This is because an integral mutliplies a density by the tiny width of the interval (in mathematical notation, $dx$, but we'll keep our notation, $\\delta x$):\n",
    "\n",
    "$ Density_{total}=\\int \\delta x\\ p(x)\\ = \\ 1$\n",
    "\n",
    "This is the same as:\n",
    "\n",
    "$\\sum_{i=interval}\\ \\delta x\\ \\frac{p([x_i , \\, x_i+\\delta x])}{\\delta x}$\n",
    "\n",
    "This equivalence delivers an intuition about integration. That is, integrating is a weighted sum (here the weighting is the change in x over the tiniest of regions) of densities."
   ]
  },
  {
   "cell_type": "markdown",
   "metadata": {},
   "source": [
    "### Deriving bayes theorem with a symmetry: filtering the data in two ways to compute joint probabilities"
   ]
  },
  {
   "cell_type": "code",
   "execution_count": 4,
   "metadata": {},
   "outputs": [
    {
     "data": {
      "text/html": [
       "<div>\n",
       "<style scoped>\n",
       "    .dataframe tbody tr th:only-of-type {\n",
       "        vertical-align: middle;\n",
       "    }\n",
       "\n",
       "    .dataframe tbody tr th {\n",
       "        vertical-align: top;\n",
       "    }\n",
       "\n",
       "    .dataframe thead th {\n",
       "        text-align: right;\n",
       "    }\n",
       "</style>\n",
       "<table border=\"1\" class=\"dataframe\">\n",
       "  <thead>\n",
       "    <tr style=\"text-align: right;\">\n",
       "      <th></th>\n",
       "      <th>blue</th>\n",
       "      <th>red</th>\n",
       "      <th>marginal (shape)</th>\n",
       "    </tr>\n",
       "  </thead>\n",
       "  <tbody>\n",
       "    <tr>\n",
       "      <th>square</th>\n",
       "      <td>10</td>\n",
       "      <td>40</td>\n",
       "      <td>50</td>\n",
       "    </tr>\n",
       "    <tr>\n",
       "      <th>circle</th>\n",
       "      <td>5</td>\n",
       "      <td>15</td>\n",
       "      <td>30</td>\n",
       "    </tr>\n",
       "    <tr>\n",
       "      <th>triangle</th>\n",
       "      <td>5</td>\n",
       "      <td>25</td>\n",
       "      <td>20</td>\n",
       "    </tr>\n",
       "    <tr>\n",
       "      <th>marginal (color)</th>\n",
       "      <td>20</td>\n",
       "      <td>80</td>\n",
       "      <td>100</td>\n",
       "    </tr>\n",
       "  </tbody>\n",
       "</table>\n",
       "</div>"
      ],
      "text/plain": [
       "                  blue  red  marginal (shape)\n",
       "square              10   40                50\n",
       "circle               5   15                30\n",
       "triangle             5   25                20\n",
       "marginal (color)    20   80               100"
      ]
     },
     "execution_count": 4,
     "metadata": {},
     "output_type": "execute_result"
    }
   ],
   "source": [
    "import pandas as pd\n",
    "data=pd.read_csv('sample_data_class_1.csv',index_col=0)\n",
    "data #print out contigency table"
   ]
  },
  {
   "cell_type": "markdown",
   "metadata": {},
   "source": [
    "Above we again see the contingency table of pulling objects from hats. Notice that there are two ways to arrive at the same joint probability of a square blue object:\n",
    "\n",
    "$p(square \\cap blue)=p(blue|square)\\,p(square)$    *Are we filtering data by column or row and which row?*\n",
    "\n",
    "$p(square \\cap blue)=p(square|blue)\\,p(blue)$\n",
    "\n",
    "As you can see, a joint probability can be computed by filtering either by the row or column. This is the point from which one can derive Bayes' theorem by equating the two filterings.\n",
    "\n",
    "\n",
    "$p(blue|square)\\,p(square)=p(square|blue)\\,p(blue)$\n",
    "\n",
    "By dividing each side by $p(square)$ we have Bayes' theorem which is a translation between conditional probabilities, or filters.\n",
    "\n",
    "$p(blue|square)=\\frac{p(square|blue)\\,p(blue)}{p(square)}$"
   ]
  },
  {
   "cell_type": "markdown",
   "metadata": {},
   "source": [
    "### Using Bayes' theorem to work with parameters and data\n",
    "\n",
    "Moving forward, we'll use what we've learned but replace a row of the frequency table with data and the columns by parameters. Eventually, we'll also nest parameters within a given model that provides constraints on which parameters are under consideration, and how they function in a data-generating process.\n",
    "\n",
    "Another way of putting this is that we'll be using Bayes techniques to infer latent values that explain the data we get. The ultimate goal of this project is to infer these latent quantities given the data, or evidence we have. The key terms in this enterprise are nomenclature attached to conditional and marginal probabilities found in the equation we've been working with:\n",
    "\n",
    "$\\underbrace{p(\\theta|Data)}_\\text{posterior}=[\\underbrace{p(Data|\\theta)}_\\text{likelihood} \\,\\,\\underbrace{p(\\theta)}_\\text{prior}]\\, / \\, \\underbrace{p(Data)}_\\text{evidence}$\n",
    "\n",
    "\n",
    "Note that the denominator that we call \"evidence\" is simply a marginal probability. In many cases it's called the marginal likelihood given that it is a weighted average of all possible likelihoods, where the weighting is accomlished by the prior probability of a given set of parameters:\n",
    "\n",
    "$\\sum_{\\theta}p(Data|\\theta)p(\\theta)$\n",
    "\n",
    "An alternative way to think about the marginal likelihood is to sum up all the joint probabilities in a given row (if columns are $\\theta\\text{'s}$ and rows are datasets).\n"
   ]
  },
  {
   "cell_type": "markdown",
   "metadata": {},
   "source": [
    "### Bayesian updating of hypotheses: models, parameters, and posteriors\n",
    "To see Bayes in action, consider an example in which we flip a coin (get Data) to see if the coin is biased (make inferences about latent quantities, which we call $\\theta$).\n",
    "\n",
    "We have a prior belief in certain possible values of the bias of the coin, with 1.0 meaning the coin is biased always to be heads, and 0.0 meaning the coin is always biased to show tails. An unbiased coin has a parameter of 0.5. We will see how likelihood functions are dictated by a model of how to generate data, or what has been called a \"generative model.\" \n",
    "\n",
    "The first thing we'll do is define a prior distribution. The beauty of this interactive code is that we can see how the posterior is affected by the prior simply by changing the relevant code. For now, we'll start off with a prior that favors the belief that the coin is unbiased: the peak probability over $\\theta=0.5$ and the PMF decays towards 0 the more distant from 0.5 $\\theta$ gets."
   ]
  },
  {
   "cell_type": "code",
   "execution_count": 36,
   "metadata": {},
   "outputs": [
    {
     "data": {
      "image/png": "[encoded data removed]",
      "text/plain": [
       "<Figure size 864x792 with 1 Axes>"
      ]
     },
     "metadata": {},
     "output_type": "display_data"
    },
    {
     "name": "stdout",
     "output_type": "stream",
     "text": [
      "[0.00039825 0.04022302 0.08004779 0.11987256 0.15969733 0.1995221\n",
      " 0.15969733 0.11987256 0.08004779 0.04022302 0.00039825]\n"
     ]
    }
   ],
   "source": [
    "\"\"\"\n",
    "Bayesian updating of beliefs about the bias of a coin. The prior and posterior\n",
    "distributions indicate probability masses at discrete candidate values of theta.\n",
    "\"\"\"\n",
    "import numpy as np\n",
    "import matplotlib.pyplot as plt\n",
    "plt.style.use('seaborn-darkgrid')\n",
    "\n",
    "# theta is the vector of candidate values for the parameter theta.\n",
    "n_theta_vals = 11\n",
    "# Now make the vector of theta values:\n",
    "theta = np.linspace(0, 1, n_theta_vals )\n",
    "\n",
    "# p_theta is the vector of prior probabilities on the theta values.\n",
    "p_theta = np.minimum(theta, 1-theta)+.001  # Makes a triangular belief distribution.\n",
    "p_theta = p_theta / np.sum(p_theta)     # Makes sure that beliefs sum to 1.\n",
    "\n",
    "\n",
    "# Plot the results.\n",
    "plt.figure(figsize=(12, 11))\n",
    "plt.subplots_adjust(hspace=0.7)\n",
    "\n",
    "# Plot the prior:\n",
    "plt.subplot(3, 1, 1)\n",
    "plt.stem(theta, p_theta, markerfmt=' ')\n",
    "plt.xlim(0, 1.2)\n",
    "plt.xlabel('$\\\\theta$')\n",
    "plt.ylabel('$P(\\\\theta)$')\n",
    "plt.title('Prior')\n",
    "plt.show()\n",
    "\n",
    "print(p_theta)"
   ]
  },
  {
   "cell_type": "markdown",
   "metadata": {},
   "source": [
    "You'll notice that this is a probability *mass* function, with probability values at discrete values that sum to one. \n",
    "\n",
    "### Data\n",
    "\n",
    "Below in the next bit of code is the Data we observe. Here, we observe 1 coin-toss, which came up heads."
   ]
  },
  {
   "cell_type": "code",
   "execution_count": 43,
   "metadata": {},
   "outputs": [],
   "source": [
    "n_heads = 100\n",
    "n_tails = 1"
   ]
  },
  {
   "cell_type": "markdown",
   "metadata": {},
   "source": [
    "### Likelihood function and generative models\n",
    "\n",
    "Likelihood functions, denoted in Bayes' by $p(Data|\\theta)$ can be thought of as part of the essence of a generative model. A generative model is a formal description of a mechanism that can generate observable data and is contingent upon parameter settings within the mechanism. For instance, in a reinforcement learning setting, the mechanism generating the data could be Q-learning algorithms. Inputting data and parameters into these algorithms can generate probabilities in the form $p(data|\\theta,model)$.\n",
    "\n",
    "\n",
    "Here, we'll use the Bernoulli likelihood function as a way to generate data. We use this because it's suited exactly for what we're studying: a single, binary response. One can think of Bernoulli as defining the likelihood that one of the two binary outcomes is favored due to a bias term, denoted here as $\\theta$."
   ]
  },
  {
   "cell_type": "code",
   "execution_count": 50,
   "metadata": {},
   "outputs": [
    {
     "data": {
      "image/png": "[encoded data removed]",
      "text/plain": [
       "<Figure size 432x288 with 1 Axes>"
      ]
     },
     "metadata": {},
     "output_type": "display_data"
    }
   ],
   "source": [
    "# Compute the likelihood of the data for each value of theta:\n",
    "p_data_given_theta = theta**n_heads * (1-theta)**n_tails\n",
    "\n",
    "#Plot the likelihood\n",
    "plt.subplot(3, 1, 2)\n",
    "plt.stem(theta, p_data_given_theta, markerfmt=' ')\n",
    "plt.xlim(0, 1.2)\n",
    "plt.xlabel('$\\\\theta$')\n",
    "plt.ylabel('$P(D|\\\\theta)$')\n",
    "plt.title('Likelihood')\n",
    "plt.show()"
   ]
  },
  {
   "cell_type": "markdown",
   "metadata": {},
   "source": [
    "Note that although we previously computed Bayes' theorem on a single value in the example with objects being drawn from a hat, here, Bayes' theorem is computed on a *distribution*.\n",
    "\n",
    "One line of code accomplishes this for the likelihood function above, but it's helpful to think of Bayes' theorem being computed iteratively on all candidate $\\theta$ values defined by the prior distribution over $\\theta$."
   ]
  },
  {
   "cell_type": "markdown",
   "metadata": {},
   "source": [
    "### Marginal likelihood\n",
    "Think about how hard this would be to the extent that we have multiple parameters..."
   ]
  },
  {
   "cell_type": "code",
   "execution_count": 48,
   "metadata": {},
   "outputs": [],
   "source": [
    "# Compute the marginal likelihood\n",
    "p_data = np.sum(p_data_given_theta * p_theta)"
   ]
  },
  {
   "cell_type": "markdown",
   "metadata": {},
   "source": [
    "### Posterior: Re-allocating credibility\n",
    "\n",
    "Now since we have all the pieces of Bayes theorem we can use it to reallocate credibility (probability) to candidate $\\theta$ values that serve to explain our data (again that we saw a coin-flip come up heads). "
   ]
  },
  {
   "cell_type": "code",
   "execution_count": 51,
   "metadata": {},
   "outputs": [
    {
     "data": {
      "image/png": "[encoded data removed]",
      "text/plain": [
       "<Figure size 432x288 with 1 Axes>"
      ]
     },
     "metadata": {},
     "output_type": "display_data"
    }
   ],
   "source": [
    "# Compute the posterior:\n",
    "p_theta_given_data = p_data_given_theta * p_theta / p_data   # This is Bayes' rule!\n",
    "\n",
    "# Plot the posterior:\n",
    "plt.subplot(3, 1, 3)\n",
    "plt.stem(theta, p_theta_given_data, markerfmt=' ')\n",
    "plt.xlim(0, 1.2)\n",
    "plt.xlabel('$\\\\theta$')\n",
    "plt.ylabel('$P(\\\\theta|D)$')\n",
    "plt.title('Posterior')\n",
    "plt.show()"
   ]
  },
  {
   "cell_type": "markdown",
   "metadata": {},
   "source": [
    "### How the prior affects the posterior\n",
    "\n",
    "(1) Try plugging in 1000 heads for the data. Then run the rest of the code. What do you notice, and why?\n",
    "\n",
    "(2) Change the prior to favor tails. What do you notice about the posterior with 10 heads, and why?"
   ]
  },
  {
   "cell_type": "markdown",
   "metadata": {},
   "source": [
    "### How sample size affects precision\n",
    "Notice how the number of heads and tails affects the distribution by changing the \"data\" block. "
   ]
  },
  {
   "cell_type": "markdown",
   "metadata": {},
   "source": [
    "### Specifying a prior distribution by finding a meaningful functional form\n",
    "\n",
    "Although we've dealth with a simple prior distribution to illustrate Bayesian re-allocation of credibilities across possible parameters, we have not yet dealt with the idea of specifying typical prior, continuous distributions. \n",
    "\n",
    "To do this, we need to find a distribution that satisfies two conditions for a good 'mathematical description' of the data: (1) The form of the distribution should be \"comprehensible with meaningful parameters\" (Kruschke p.24). (2) the distribution should be \"descriptively accurate\" in that it \"looks like\" the distribution of one's actual data. \n",
    "\n",
    "The beta distribution is a good candidate because it satisfies these conditions **for our data**. The beta distribution has a scale ranging from 0 to 1 (which is the natural range of coin biases) and is defined by two meaningful parameters, $a$ and $a$, that control the prior bias to favor either $\\theta=0$, via an increasing $b$ or favoring $\\theta=1$ via an increasing $a$.\n",
    "\n",
    "Formally the beta distribution is defined as such:\n",
    "$\\theta^{(a-1)}\\,(1-\\theta)^{(b-1)} \\, / \\, B(a,b)$\n",
    "\n",
    "where $B(a,b)=\\int_{0}^{1}{d\\theta}\\,\\theta^{(a-1)}\\,(1-\\theta)^{(b-1)}$\n",
    "\n",
    "\n",
    "The mathematical details aren't of much interest, but what is is that the beta *distribution* is different from the beta *function*. The latter, defined as $B(a,b)$ ensures that the probability density function beta$(\\theta|a,b)$ integrates to 1 (see point above on probability denisities).\n",
    "\n",
    "For more info on using beta distirbution to compute a posterior over likely $\\theta$ values, see here: https://github.com/aloctavodia/Doing_bayesian_data_analysis/blob/master/05_BernBeta.py\n",
    "\n",
    "Let's run the following code to see what happens when we input the $\\theta=[0.9,0.7,0.5,0.3,0.1]$ into a beta density functions with parameters $a=4\\,,\\,b=4$\n",
    "\n",
    "\n"
   ]
  },
  {
   "cell_type": "code",
   "execution_count": 10,
   "metadata": {},
   "outputs": [
    {
     "data": {
      "text/plain": [
       "array([0.10206, 1.29654, 2.1875 , 1.29654, 0.10206])"
      ]
     },
     "execution_count": 10,
     "metadata": {},
     "output_type": "execute_result"
    }
   ],
   "source": [
    "from scipy.stats import beta\n",
    "\n",
    "beta.pdf([0.9,0.7,0.5,0.3,0.1],4,4)"
   ]
  },
  {
   "cell_type": "markdown",
   "metadata": {},
   "source": [
    "Assuming the higest number is the peak of the distribution, what can we say with the output of the function? Why are some outputs greater than 1? What can we infer about the coin if this is the true underlying distribution of real $\\theta$ values?"
   ]
  },
  {
   "cell_type": "markdown",
   "metadata": {},
   "source": [
    "### Ways to solve for a posterior distribution over parameters\n",
    "\n",
    "The most difficult part of estimating posteriors is to solve for the marginal likelihood, given that it requires integration over potentially many parameters. \n",
    "\n",
    "1. **Analytical**\n",
    "    - When the functional form of the likeihood * prior is equivalent to the prior, the prior and likelihood are said to be \"conjugate\" and the marginal likelihood can be computed analytically. This means there is a mathemtical equation that one can leverage to solve for the posterior without difficult or incalculable integration.Such is the case with a beta prior and Bernoulli likelihood as was the case in the example above tossing coins. \n",
    "   \n",
    "   \n",
    "2. **Numerical approimation via a grid of relevant parameters points**\n",
    "    - The integral is approximated by a sum of several discrete values. This is what we did in the example above even though we could have computed the posterior analytically. \n",
    "\n",
    "\n",
    "### Next week: Solving Bayes by approximation\n",
    "\n",
    "We will dive into estimating models with multiple parameters, and as such requires new techniques.\n",
    "\n",
    "For instance $p(\\theta,\\beta,\\alpha,\\mu,\\gamma,\\delta|data)$ is a 6-dimensional joint probability space to estimate (again this is just a generalization of the 1-dimensional scenario we've been working with). If the solution \n",
    "\n"
   ]
  },
  {
   "cell_type": "code",
   "execution_count": null,
   "metadata": {},
   "outputs": [],
   "source": []
  }
 ],
 "metadata": {
  "kernelspec": {
   "display_name": "Python 3",
   "language": "python",
   "name": "python3"
  },
  "language_info": {
   "codemirror_mode": {
    "name": "ipython",
    "version": 3
   },
   "file_extension": ".py",
   "mimetype": "text/x-python",
   "name": "python",
   "nbconvert_exporter": "python",
   "pygments_lexer": "ipython3",
   "version": "3.7.3"
  }
 },
 "nbformat": 4,
 "nbformat_minor": 2
}
